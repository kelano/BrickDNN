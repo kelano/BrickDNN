{
 "cells": [
  {
   "cell_type": "code",
   "execution_count": 1,
   "metadata": {},
   "outputs": [
    {
     "data": {
      "text/plain": [
       "'/usr/local/opt/python/bin/python3.6'"
      ]
     },
     "execution_count": 1,
     "metadata": {},
     "output_type": "execute_result"
    }
   ],
   "source": [
    "import sys\n",
    "sys.executable"
   ]
  },
  {
   "cell_type": "code",
   "execution_count": null,
   "metadata": {},
   "outputs": [],
   "source": [
    "import pytorch.data_util as data_util\n",
    "\n",
    "import fasttext\n",
    "\n",
    "mystr = str('hello THER3')\n",
    "print(mystr)\n",
    "mystr = mystr.lower()\n",
    "print(mystr)\n",
    "\n",
    "\n",
    "print('loading fasttest')\n",
    "word_2_vec, word_to_idx, idx_to_vec, embedding_mat = fasttext.load_vectors()\n",
    "\n",
    "# print(word_to_idx['UNK'])\n",
    "# print(word_2_vec['UNK'])\n",
    "# print(word_2_vec['unk'])\n",
    "\n",
    "print('Embedding len: ', len(word_to_idx))\n",
    "\n",
    "# exit()\n",
    "\n",
    "\n",
    "df = data_util.load_data()\n",
    "\n",
    "X = df.Name\n",
    "Y = df.Theme\n",
    "\n",
    "\n",
    "# print(type(X))\n",
    "X = data_util.to_idx_rep(X, word_to_idx)\n",
    "# print(type(X))\n",
    "\n",
    "Y, one_hot_array = data_util.to_one_hot(Y)\n",
    "\n",
    "X = X.to_numpy()\n",
    "Y = Y.to_numpy()\n",
    "\n",
    "print(X.shape)\n",
    "print(Y.shape)\n",
    "\n",
    "# print(X.to_numpy().shape)\n",
    "# print(Y.to_numpy().shape)\n",
    "\n",
    "# exit()\n",
    "\n",
    "# print(X)\n",
    "# print(Y)\n",
    "\n",
    "X_train, Y_train, X_dev, Y_dev, X_test, Y_test = data_util.partition_data(X, Y)\n",
    "\n",
    "print('Train: ', len(X_train))\n",
    "print('Dev: ', len(X_dev))\n",
    "print('Test: ', len(X_test))\n",
    "\n",
    "# X_dev_sub = X_dev[0:10]\n",
    "\n",
    "# X_new = data_util.to_idx_rep(X_dev_sub, word_to_idx)\n",
    "\n",
    "# print(X_new)\n"
   ]
  }
 ],
 "metadata": {
  "kernelspec": {
   "display_name": "Python 3",
   "language": "python",
   "name": "python3"
  },
  "language_info": {
   "codemirror_mode": {
    "name": "ipython",
    "version": 3
   },
   "file_extension": ".py",
   "mimetype": "text/x-python",
   "name": "python",
   "nbconvert_exporter": "python",
   "pygments_lexer": "ipython3",
   "version": "3.6.5"
  }
 },
 "nbformat": 4,
 "nbformat_minor": 2
}
